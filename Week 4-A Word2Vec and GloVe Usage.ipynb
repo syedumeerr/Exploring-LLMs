{
 "cells": [
  {
   "cell_type": "code",
   "execution_count": 1,
   "metadata": {},
   "outputs": [
    {
     "name": "stdout",
     "output_type": "stream",
     "text": [
      "/mnt/c/Users/sahaider/AppData/Local/Programs/Microsoft VS Code\n",
      "/mnt/d/Sajjad/08-2023/Python Code/Text Analytics - Spring 2024\n"
     ]
    }
   ],
   "source": [
    "import os\n",
    "print(os.getcwd())\n",
    "#change working directory to the location of the data file\n",
    "os.chdir('/mnt/d/Sajjad/08-2023/Python Code/Text Analytics - Spring 2024/')\n",
    "print(os.getcwd())"
   ]
  },
  {
   "cell_type": "markdown",
   "metadata": {},
   "source": [
    "### Loading Word2Vec"
   ]
  },
  {
   "cell_type": "code",
   "execution_count": 2,
   "metadata": {},
   "outputs": [],
   "source": [
    "from gensim.models import KeyedVectors\n",
    "import gensim \n",
    "import logging\n",
    "\n",
    "logging.basicConfig(format='%(asctime)s : %(levelname)s : %(message)s', level=logging.INFO)"
   ]
  },
  {
   "cell_type": "markdown",
   "metadata": {},
   "source": [
    "Download the Word2Vec file from this link: https://code.google.com/archive/p/word2vec/\n"
   ]
  },
  {
   "cell_type": "code",
   "execution_count": 3,
   "metadata": {},
   "outputs": [
    {
     "name": "stderr",
     "output_type": "stream",
     "text": [
      "2024-02-15 06:22:03,926 : INFO : loading projection weights from GoogleNews-vectors-negative300.bin\n",
      "2024-02-15 06:22:05,395 : INFO : KeyedVectors lifecycle event {'msg': 'loaded (100000, 300) matrix of type float32 from GoogleNews-vectors-negative300.bin', 'binary': True, 'encoding': 'utf8', 'datetime': '2024-02-15T06:22:05.395352', 'gensim': '4.3.2', 'python': '3.10.12 (main, Nov 20 2023, 15:14:05) [GCC 11.4.0]', 'platform': 'Linux-5.15.133.1-microsoft-standard-WSL2-x86_64-with-glibc2.35', 'event': 'load_word2vec_format'}\n"
     ]
    }
   ],
   "source": [
    "model_W2V = KeyedVectors.load_word2vec_format('GoogleNews-vectors-negative300.bin',binary=True, limit=100000)"
   ]
  },
  {
   "cell_type": "code",
   "execution_count": 4,
   "metadata": {},
   "outputs": [
    {
     "data": {
      "text/plain": [
       "300"
      ]
     },
     "execution_count": 4,
     "metadata": {},
     "output_type": "execute_result"
    }
   ],
   "source": [
    "model_W2V.vector_size"
   ]
  },
  {
   "cell_type": "code",
   "execution_count": 5,
   "metadata": {},
   "outputs": [
    {
     "data": {
      "text/plain": [
       "[('Abu_Dhabi', 0.7878970503807068),\n",
       " ('UAE', 0.7321926951408386),\n",
       " ('emirate', 0.715543270111084),\n",
       " ('Sharjah', 0.7086455225944519),\n",
       " ('United_Arab_Emirates', 0.6911906599998474),\n",
       " ('Ajman', 0.6768753528594971),\n",
       " ('Fujairah', 0.6649850010871887),\n",
       " ('Nakheel', 0.6603208780288696),\n",
       " ('Ras_Al_Khaimah', 0.657249391078949),\n",
       " ('RAK', 0.6426394581794739)]"
      ]
     },
     "execution_count": 5,
     "metadata": {},
     "output_type": "execute_result"
    }
   ],
   "source": [
    "model_W2V.most_similar('Dubai')"
   ]
  },
  {
   "cell_type": "code",
   "execution_count": 6,
   "metadata": {},
   "outputs": [
    {
     "data": {
      "text/plain": [
       "[('Koran', 0.9013887047767639),\n",
       " (\"Qur'an\", 0.8874784708023071),\n",
       " ('Holy_Quran', 0.8056729435920715),\n",
       " ('Muslim_holy', 0.65482497215271),\n",
       " ('Islam', 0.5678619742393494),\n",
       " ('Allah', 0.5481075048446655),\n",
       " ('Quran_burning', 0.5352866649627686),\n",
       " ('mosque', 0.5090317726135254),\n",
       " ('Prophet_Muhammad', 0.5023570656776428),\n",
       " ('imam', 0.5014992356300354)]"
      ]
     },
     "execution_count": 6,
     "metadata": {},
     "output_type": "execute_result"
    }
   ],
   "source": [
    "model_W2V.most_similar('Quran')"
   ]
  },
  {
   "cell_type": "code",
   "execution_count": 7,
   "metadata": {},
   "outputs": [
    {
     "data": {
      "text/plain": [
       "[('woman', 0.7609435319900513)]"
      ]
     },
     "execution_count": 7,
     "metadata": {},
     "output_type": "execute_result"
    }
   ],
   "source": [
    "model_W2V.most_similar(positive=['man', 'queen'], negative=['king'], topn=1)"
   ]
  },
  {
   "cell_type": "code",
   "execution_count": 8,
   "metadata": {},
   "outputs": [
    {
     "data": {
      "text/plain": [
       "[('woman', 0.7609435319900513), ('girl', 0.6139994263648987)]"
      ]
     },
     "execution_count": 8,
     "metadata": {},
     "output_type": "execute_result"
    }
   ],
   "source": [
    "model_W2V.most_similar(positive=['man', 'queen'], negative=['king'], topn=2)"
   ]
  },
  {
   "cell_type": "code",
   "execution_count": 9,
   "metadata": {},
   "outputs": [
    {
     "data": {
      "text/plain": [
       "[('Islamabad', 0.7071475982666016),\n",
       " ('Peshawar', 0.5855220556259155),\n",
       " ('Lahore', 0.5836684703826904),\n",
       " ('Gilani', 0.5703004002571106),\n",
       " ('Pakistani', 0.5511496663093567)]"
      ]
     },
     "execution_count": 9,
     "metadata": {},
     "output_type": "execute_result"
    }
   ],
   "source": [
    "model_W2V.most_similar(positive=['Rome', 'Pakistan'], negative=['Italy'], topn=5)"
   ]
  },
  {
   "cell_type": "code",
   "execution_count": null,
   "metadata": {},
   "outputs": [],
   "source": [
    "model_W2V.most_similar(positive=['goal', 'hockey'], negative=['soccer'], topn=5)"
   ]
  },
  {
   "cell_type": "code",
   "execution_count": null,
   "metadata": {},
   "outputs": [],
   "source": [
    "model_W2V.most_similar(positive=['wicket', 'baseball'], negative=['cricket'], topn=5)"
   ]
  },
  {
   "cell_type": "code",
   "execution_count": null,
   "metadata": {},
   "outputs": [],
   "source": [
    "model_W2V.most_similar(positive=['Karachi', 'USA'], negative=['Pakistan'], topn=5)"
   ]
  },
  {
   "cell_type": "code",
   "execution_count": 10,
   "metadata": {},
   "outputs": [
    {
     "data": {
      "text/plain": [
       "[('woman', 0.6514645218849182)]"
      ]
     },
     "execution_count": 10,
     "metadata": {},
     "output_type": "execute_result"
    }
   ],
   "source": [
    "model_W2V.most_similar(positive=['man', 'nurse'], negative=['doctor'], topn=1)"
   ]
  },
  {
   "cell_type": "code",
   "execution_count": 12,
   "metadata": {},
   "outputs": [
    {
     "data": {
      "text/plain": [
       "[('white', 0.4745582640171051), ('gray', 0.39208799600601196)]"
      ]
     },
     "execution_count": 12,
     "metadata": {},
     "output_type": "execute_result"
    }
   ],
   "source": [
    "model_W2V.most_similar(positive=['black', 'criminal'], negative=['policeman'], topn=2)"
   ]
  },
  {
   "cell_type": "markdown",
   "metadata": {},
   "source": [
    "GLoVe"
   ]
  },
  {
   "cell_type": "code",
   "execution_count": null,
   "metadata": {},
   "outputs": [],
   "source": [
    "model_W2V = KeyedVectors.load_word2vec_format('GoogleNews-vectors-negative300.bin',binary=True, limit=100000)\n",
    "model_W2V.init_sims(replace=True)\n"
   ]
  },
  {
   "cell_type": "code",
   "execution_count": null,
   "metadata": {},
   "outputs": [],
   "source": [
    "from gensim.scripts.glove2word2vec import glove2word2vec"
   ]
  },
  {
   "cell_type": "code",
   "execution_count": null,
   "metadata": {},
   "outputs": [],
   "source": [
    "glove_input_file = 'glove.6B.100d.txt'\n",
    "word2vec_output_file = 'glove.6B.100d.txt.word2vec'\n",
    "glove2word2vec(glove_input_file,word2vec_output_file)\n",
    "modelg = KeyedVectors.load_word2vec_format(word2vec_output_file,binary=False)"
   ]
  },
  {
   "cell_type": "code",
   "execution_count": 13,
   "metadata": {},
   "outputs": [],
   "source": [
    "word2vec_output_file = 'glove.6B.100d.txt.word2vec'"
   ]
  },
  {
   "cell_type": "code",
   "execution_count": 14,
   "metadata": {},
   "outputs": [
    {
     "name": "stderr",
     "output_type": "stream",
     "text": [
      "2024-02-15 06:30:05,207 : INFO : loading projection weights from glove.6B.100d.txt.word2vec\n",
      "2024-02-15 06:30:45,174 : INFO : KeyedVectors lifecycle event {'msg': 'loaded (400000, 100) matrix of type float32 from glove.6B.100d.txt.word2vec', 'binary': False, 'encoding': 'utf8', 'datetime': '2024-02-15T06:30:45.174743', 'gensim': '4.3.2', 'python': '3.10.12 (main, Nov 20 2023, 15:14:05) [GCC 11.4.0]', 'platform': 'Linux-5.15.133.1-microsoft-standard-WSL2-x86_64-with-glibc2.35', 'event': 'load_word2vec_format'}\n"
     ]
    }
   ],
   "source": [
    "modelg = KeyedVectors.load_word2vec_format(word2vec_output_file,binary=False)"
   ]
  },
  {
   "cell_type": "code",
   "execution_count": 15,
   "metadata": {},
   "outputs": [
    {
     "name": "stdout",
     "output_type": "stream",
     "text": [
      "Word2Vec:  [('woman', 0.7609435319900513)]\n",
      "GLoVe:  [('woman', 0.8183383345603943)]\n"
     ]
    }
   ],
   "source": [
    "print(\"Word2Vec: \", model_W2V.most_similar(positive=['queen', 'man'], negative=['king'], topn=1))\n",
    "print(\"GLoVe: \", modelg.most_similar(positive=['queen', 'man'], negative=['king'], topn=1))"
   ]
  },
  {
   "cell_type": "code",
   "execution_count": null,
   "metadata": {},
   "outputs": [],
   "source": [
    "print(\"Word2Vec: \", model_W2V.most_similar(positive=['Austria', 'Rome'], negative=['Italy'], topn=1))\n",
    "print(\"GLoVe: \", modelg.most_similar(positive=['austria', 'rome'], negative=['italy'], topn=1))"
   ]
  },
  {
   "cell_type": "code",
   "execution_count": 16,
   "metadata": {},
   "outputs": [
    {
     "name": "stdout",
     "output_type": "stream",
     "text": [
      "Word2Vec:  [('Islamabad', 0.8079619407653809)]\n",
      "GLoVe:  [('islamabad', 0.8707955479621887)]\n"
     ]
    }
   ],
   "source": [
    "print(\"Word2Vec: \", model_W2V.most_similar(positive=['Pakistan', 'Delhi'], negative=['India'], topn=1))\n",
    "print(\"GLoVe: \", modelg.most_similar(positive=['pakistan', 'delhi'], negative=['india'], topn=1))"
   ]
  },
  {
   "cell_type": "code",
   "execution_count": 17,
   "metadata": {},
   "outputs": [
    {
     "name": "stdout",
     "output_type": "stream",
     "text": [
      "Word2Vec:  [('woman', 0.6514645218849182)]\n",
      "GLoVe:  [('woman', 0.7453064918518066)]\n"
     ]
    }
   ],
   "source": [
    "print(\"Word2Vec: \", model_W2V.most_similar(positive=['nurse', 'man'], negative=['doctor'], topn=1))\n",
    "print(\"GLoVe: \", modelg.most_similar(positive=['nurse', 'man'], negative=['doctor'], topn=1))"
   ]
  },
  {
   "cell_type": "code",
   "execution_count": 18,
   "metadata": {},
   "outputs": [
    {
     "name": "stdout",
     "output_type": "stream",
     "text": [
      "Word2Vec:  [('black', 0.5116940140724182), ('gray', 0.44541218876838684)]\n",
      "GLoVe:  [('brown', 0.615593671798706), ('suit', 0.5891393423080444)]\n"
     ]
    }
   ],
   "source": [
    "print(\"Word2Vec: \", model_W2V.most_similar(positive=['criminal', 'white'], negative=['policeman'], topn=2))\n",
    "print(\"GLoVe: \", modelg.most_similar(positive=['criminal', 'white'], negative=['policeman'], topn=2))"
   ]
  },
  {
   "cell_type": "code",
   "execution_count": 19,
   "metadata": {},
   "outputs": [
    {
     "name": "stdout",
     "output_type": "stream",
     "text": [
      "[('Pakistani', 0.8027211427688599), ('Islamabad', 0.7470568418502808), ('Pakistanis', 0.7108458876609802), ('Bangladesh', 0.7073666453361511), ('Gilani', 0.7014053463935852), ('Balochistan', 0.6777909398078918), ('India', 0.6706861257553101), ('Musharraf', 0.6638977527618408), ('President_Pervez_Musharraf', 0.6626023054122925), ('Zardari', 0.6620479226112366)]\n",
      "----\n",
      "[('india', 0.8370323777198792), ('pakistani', 0.812639057636261), ('bangladesh', 0.7781742811203003), ('lanka', 0.76082444190979), ('sri', 0.7298579812049866), ('afghanistan', 0.7257570624351501), ('islamabad', 0.7255539894104004), ('kashmir', 0.7038478851318359), ('delhi', 0.6743370294570923), ('iran', 0.6704538464546204)]\n"
     ]
    }
   ],
   "source": [
    "print(model_W2V.most_similar('Pakistan', topn=10))\n",
    "print(\"----\")\n",
    "print(modelg.most_similar('pakistan', topn=10))"
   ]
  },
  {
   "cell_type": "code",
   "execution_count": 20,
   "metadata": {},
   "outputs": [
    {
     "name": "stdout",
     "output_type": "stream",
     "text": [
      "[('religious_extremism', 0.8095038533210754), ('radicalism', 0.7823388576507568), ('violent_extremism', 0.7761071920394897), ('Islamic_extremism', 0.7622052431106567), ('Islamic_fundamentalism', 0.7453164458274841), ('militancy', 0.7344786524772644), ('radical_Islam', 0.7271878719329834), ('extremists', 0.7103613615036011), ('fundamentalism', 0.7041452527046204), ('Islamism', 0.7039446234703064)]\n"
     ]
    }
   ],
   "source": [
    "print(model_W2V.most_similar('extremism', topn=10))"
   ]
  },
  {
   "cell_type": "code",
   "execution_count": 21,
   "metadata": {},
   "outputs": [
    {
     "name": "stdout",
     "output_type": "stream",
     "text": [
      "----\n",
      "[('fundamentalism', 0.8230689764022827), ('radicalism', 0.8012637495994568), ('militancy', 0.7999183535575867), ('separatism', 0.7940607070922852), ('terrorism', 0.7652468085289001), ('fanaticism', 0.7505853176116943), ('intolerance', 0.7201327681541443), ('sectarianism', 0.7091230750083923), ('extremists', 0.6720372438430786), ('hatred', 0.6487465500831604)]\n"
     ]
    }
   ],
   "source": [
    "\n",
    "print(\"----\")\n",
    "print(modelg.most_similar('extremism', topn=10))"
   ]
  }
 ],
 "metadata": {
  "kernelspec": {
   "display_name": "base",
   "language": "python",
   "name": "python3"
  },
  "language_info": {
   "codemirror_mode": {
    "name": "ipython",
    "version": 3
   },
   "file_extension": ".py",
   "mimetype": "text/x-python",
   "name": "python",
   "nbconvert_exporter": "python",
   "pygments_lexer": "ipython3",
   "version": "3.10.12"
  },
  "vscode": {
   "interpreter": {
    "hash": "5e9236c168fd9c5a2497735f30867c8b2a4981b493523b82ffb7e802a066bea3"
   }
  }
 },
 "nbformat": 4,
 "nbformat_minor": 2
}
